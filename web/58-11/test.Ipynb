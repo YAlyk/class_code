{
 "cells": [
  {
   "cell_type": "code",
   "execution_count": 1,
   "metadata": {},
   "outputs": [
    {
     "name": "stdout",
     "output_type": "stream",
     "text": [
      "<class 'pandas.core.frame.DataFrame'>\n",
      "RangeIndex: 237 entries, 0 to 236\n",
      "Data columns (total 13 columns):\n",
      " #   Column      Non-Null Count  Dtype  \n",
      "---  ------      --------------  -----  \n",
      " 0   Unnamed: 0  237 non-null    int64  \n",
      " 1   Sex         236 non-null    object \n",
      " 2   Wr.Hnd      236 non-null    float64\n",
      " 3   NW.Hnd      236 non-null    float64\n",
      " 4   W.Hnd       236 non-null    object \n",
      " 5   Fold        237 non-null    object \n",
      " 6   Pulse       192 non-null    float64\n",
      " 7   Clap        236 non-null    object \n",
      " 8   Exer        237 non-null    object \n",
      " 9   Smoke       236 non-null    object \n",
      " 10  Height      209 non-null    float64\n",
      " 11  M.I         209 non-null    object \n",
      " 12  Age         237 non-null    float64\n",
      "dtypes: float64(5), int64(1), object(7)\n",
      "memory usage: 24.2+ KB\n"
     ]
    }
   ],
   "source": [
    "import pandas as pd\n",
    "import numpy as np\n",
    "df = pd.read_csv(\"survey.csv\")\n",
    "df.head()\n",
    "df.info()\n"
   ]
  },
  {
   "cell_type": "code",
   "execution_count": null,
   "metadata": {},
   "outputs": [],
   "source": []
  }
 ],
 "metadata": {
  "kernelspec": {
   "display_name": "Python 3",
   "language": "python",
   "name": "python3"
  },
  "language_info": {
   "codemirror_mode": {
    "name": "ipython",
    "version": 3
   },
   "file_extension": ".py",
   "mimetype": "text/x-python",
   "name": "python",
   "nbconvert_exporter": "python",
   "pygments_lexer": "ipython3",
   "version": "3.11.2"
  },
  "orig_nbformat": 4,
  "vscode": {
   "interpreter": {
    "hash": "fb5b6f82490bca4a91d4f1f62551b3e0e45df0242f93fcb2583ea2b08b3b8422"
   }
  }
 },
 "nbformat": 4,
 "nbformat_minor": 2
}
