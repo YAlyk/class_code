{
 "cells": [
  {
   "attachments": {},
   "cell_type": "markdown",
   "metadata": {},
   "source": [
    "Подключаем модуль sqlite3 с помощью import и скоратим его до sl."
   ]
  },
  {
   "cell_type": "code",
   "execution_count": 1,
   "metadata": {},
   "outputs": [],
   "source": [
    "import sqlite3 as sl"
   ]
  },
  {
   "attachments": {},
   "cell_type": "markdown",
   "metadata": {},
   "source": [
    "Т.к. sqlite3 вляется встроенным модулем, то pip install писать не нужно и никакие дополнительные драйвера к нему не нужны. Поэтому создать базу данных и получить её в своё распоряжение можно легко и просто:"
   ]
  },
  {
   "cell_type": "code",
   "execution_count": null,
   "metadata": {},
   "outputs": [],
   "source": [
    "con = sl.connect('my-test.db')"
   ]
  },
  {
   "attachments": {},
   "cell_type": "markdown",
   "metadata": {},
   "source": [
    "Выволнив эту строку кода мы создадим базу данных и подключимся к ней. Если у нас такой базы данных нет, то она автоматически будет создана. Найти её можно в проводнике "
   ]
  }
 ],
 "metadata": {
  "kernelspec": {
   "display_name": "Python 3",
   "language": "python",
   "name": "python3"
  },
  "language_info": {
   "codemirror_mode": {
    "name": "ipython",
    "version": 3
   },
   "file_extension": ".py",
   "mimetype": "text/x-python",
   "name": "python",
   "nbconvert_exporter": "python",
   "pygments_lexer": "ipython3",
   "version": "3.11.2"
  },
  "orig_nbformat": 4,
  "vscode": {
   "interpreter": {
    "hash": "fb5b6f82490bca4a91d4f1f62551b3e0e45df0242f93fcb2583ea2b08b3b8422"
   }
  }
 },
 "nbformat": 4,
 "nbformat_minor": 2
}
