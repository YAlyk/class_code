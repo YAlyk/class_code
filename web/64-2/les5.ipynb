{
 "cells": [
  {
   "cell_type": "code",
   "execution_count": 8,
   "id": "cf9846b2",
   "metadata": {},
   "outputs": [],
   "source": [
    "import math as m"
   ]
  },
  {
   "cell_type": "code",
   "execution_count": 9,
   "id": "cd609d9c",
   "metadata": {},
   "outputs": [],
   "source": [
    "E_sh_0=(1/1)*m.log2((1/1)) - 0\n",
    "E_sh_1=-(4/9)*m.log2((4/9)) - (5/9)*m.log2((5/9))\n",
    "E_gav_0=0 - (5/5)*m.log2((5/5))\n",
    "E_gav_1=-(4/5)*m.log2((4/5)) - (1/5)*m.log2((1/5))\n",
    "E_laz_0=0 - (6/6)*m.log2((6/6))\n",
    "E_laz_1=-(4/4)*m.log2((4/4)) - 0"
   ]
  },
  {
   "cell_type": "code",
   "execution_count": 10,
   "id": "c8063a67",
   "metadata": {},
   "outputs": [
    {
     "data": {
      "text/plain": [
       "(0.0, 0.9910760598382222, 0.0, 0.7219280948873623, 0.0, -0.0)"
      ]
     },
     "execution_count": 10,
     "metadata": {},
     "output_type": "execute_result"
    }
   ],
   "source": [
    "E_sh_0, E_sh_1, E_gav_0, E_gav_1, E_laz_0, E_laz_1"
   ]
  },
  {
   "cell_type": "code",
   "execution_count": 11,
   "id": "4c502356",
   "metadata": {},
   "outputs": [
    {
     "name": "stdout",
     "output_type": "stream",
     "text": [
      "IG_Шерстист | IG_Гавкает | IG_Лазает\n",
      "0.08 0.61 0.97\n"
     ]
    }
   ],
   "source": [
    "# IG = E(Y) - E(Y/X)\n",
    "\n",
    "# Шерстист\n",
    "N = 10 \n",
    "E_YX_SHERSTIT = (1/N) * 0 + (9/10) * 0.99\n",
    "IG_SHERSTIT = 0.97 - E_YX_SHERSTIT\n",
    "\n",
    "# Гавкает\n",
    "E_YX_GAVKAET = (5/N) * 0 + (5/10) * 0.72\n",
    "IG_GAVKAET = 0.97 - E_YX_GAVKAET\n",
    "\n",
    "# Лазает\n",
    "E_YX_LAZAET = (4/N) * 0 + (6/10) * 0\n",
    "IG_LAZAET = 0.97 - E_YX_LAZAET\n",
    "\n",
    "print(f\"IG_Шерстист | IG_Гавкает | IG_Лазает\\n{round(IG_SHERSTIT, 2)} {IG_GAVKAET} {IG_LAZAET}\")"
   ]
  },
  {
   "cell_type": "code",
   "execution_count": 12,
   "id": "825b5b0e",
   "metadata": {},
   "outputs": [
    {
     "data": {
      "text/plain": [
       "0.891"
      ]
     },
     "execution_count": 12,
     "metadata": {},
     "output_type": "execute_result"
    }
   ],
   "source": [
    "E_YX_SHERSTIT"
   ]
  },
  {
   "cell_type": "code",
   "execution_count": 13,
   "id": "35fffb24",
   "metadata": {},
   "outputs": [],
   "source": [
    "def ent(data: list[int]) -> int:\n",
    "\n",
    "    summa = 0\n",
    "    for el in data:\n",
    "        summa -= m.log2(el) * el\n",
    "\n",
    "    return summa"
   ]
  },
  {
   "cell_type": "code",
   "execution_count": 14,
   "id": "a5e41d7f",
   "metadata": {},
   "outputs": [
    {
     "name": "stdout",
     "output_type": "stream",
     "text": [
      "0.8112781244591328\n",
      "1.1567796494470395\n",
      "0.0\n",
      "-2.0\n"
     ]
    }
   ],
   "source": [
    "print(ent([0.25, 0.75]))\n",
    "print(ent([0.2, 0.1, 0.7]))\n",
    "print(ent([1]))\n",
    "print(ent([1, 2]))"
   ]
  },
  {
   "cell_type": "code",
   "execution_count": 15,
   "id": "66b9f871",
   "metadata": {},
   "outputs": [],
   "source": [
    "def ent_list(data: list[int]) -> int:\n",
    "\n",
    "    new_set = set(data)\n",
    "    p = []\n",
    "    \n",
    "    for el in new_set:\n",
    "        p.append(round(data.count(el) / len(data), 6))\n",
    "    \n",
    "    return ent(p)"
   ]
  },
  {
   "cell_type": "code",
   "execution_count": 16,
   "id": "2e3d2523",
   "metadata": {},
   "outputs": [
    {
     "name": "stdout",
     "output_type": "stream",
     "text": [
      "1.0\n",
      "0.8112781244591328\n",
      "0.8112781244591328\n",
      "---\n",
      "0.0\n",
      "0.0\n",
      "0.0\n",
      "0.0\n"
     ]
    }
   ],
   "source": [
    "print(ent_list([1, 1, 1, 1, 0, 0, 0, 0]))\n",
    "print(ent_list([1, 1, 1, 0]))\n",
    "print(ent_list([0, 0, 0, 1]))\n",
    "print('---')\n",
    "print(ent_list([0, 0, 0]))\n",
    "print(ent_list([1]))\n",
    "print(ent_list([1, 1, 1]))\n",
    "print(ent_list([0]))"
   ]
  },
  {
   "cell_type": "code",
   "execution_count": 17,
   "id": "567b60fd",
   "metadata": {},
   "outputs": [
    {
     "name": "stdout",
     "output_type": "stream",
     "text": [
      "1.5849623584529748\n"
     ]
    }
   ],
   "source": [
    "print(ent_list([1, 1, 1, 2, 2, 2, 3, 3, 3]))"
   ]
  },
  {
   "cell_type": "code",
   "execution_count": null,
   "id": "b10485de",
   "metadata": {},
   "outputs": [],
   "source": []
  }
 ],
 "metadata": {
  "kernelspec": {
   "display_name": "Python 3 (ipykernel)",
   "language": "python",
   "name": "python3"
  },
  "language_info": {
   "codemirror_mode": {
    "name": "ipython",
    "version": 3
   },
   "file_extension": ".py",
   "mimetype": "text/x-python",
   "name": "python",
   "nbconvert_exporter": "python",
   "pygments_lexer": "ipython3",
   "version": "3.10.8"
  }
 },
 "nbformat": 4,
 "nbformat_minor": 5
}
